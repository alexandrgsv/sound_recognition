{
  "nbformat": 4,
  "nbformat_minor": 0,
  "metadata": {
    "colab": {
      "provenance": []
    },
    "kernelspec": {
      "name": "python3",
      "display_name": "Python 3"
    },
    "language_info": {
      "name": "python"
    }
  },
  "cells": [
    {
      "cell_type": "code",
      "metadata": {
        "id": "O2dQeaTMmTIE",
        "colab": {
          "base_uri": "https://localhost:8080/"
        },
        "outputId": "501cb439-9677-4775-d33c-205478f446e2"
      },
      "source": [
        "!pip install vosk\n",
        "!git clone https://github.com/alphacep/vosk-api"
      ],
      "execution_count": null,
      "outputs": [
        {
          "output_type": "stream",
          "name": "stdout",
          "text": [
            "Requirement already satisfied: vosk in /usr/local/lib/python3.10/dist-packages (0.3.45)\n",
            "Requirement already satisfied: cffi>=1.0 in /usr/local/lib/python3.10/dist-packages (from vosk) (1.16.0)\n",
            "Requirement already satisfied: requests in /usr/local/lib/python3.10/dist-packages (from vosk) (2.31.0)\n",
            "Requirement already satisfied: tqdm in /usr/local/lib/python3.10/dist-packages (from vosk) (4.66.4)\n",
            "Requirement already satisfied: srt in /usr/local/lib/python3.10/dist-packages (from vosk) (3.5.3)\n",
            "Requirement already satisfied: websockets in /usr/local/lib/python3.10/dist-packages (from vosk) (12.0)\n",
            "Requirement already satisfied: pycparser in /usr/local/lib/python3.10/dist-packages (from cffi>=1.0->vosk) (2.22)\n",
            "Requirement already satisfied: charset-normalizer<4,>=2 in /usr/local/lib/python3.10/dist-packages (from requests->vosk) (3.3.2)\n",
            "Requirement already satisfied: idna<4,>=2.5 in /usr/local/lib/python3.10/dist-packages (from requests->vosk) (3.7)\n",
            "Requirement already satisfied: urllib3<3,>=1.21.1 in /usr/local/lib/python3.10/dist-packages (from requests->vosk) (2.0.7)\n",
            "Requirement already satisfied: certifi>=2017.4.17 in /usr/local/lib/python3.10/dist-packages (from requests->vosk) (2024.2.2)\n",
            "Cloning into 'vosk-api'...\n",
            "remote: Enumerating objects: 4211, done.\u001b[K\n",
            "remote: Counting objects: 100% (1038/1038), done.\u001b[K\n",
            "remote: Compressing objects: 100% (441/441), done.\u001b[K\n",
            "remote: Total 4211 (delta 683), reused 808 (delta 555), pack-reused 3173\u001b[K\n",
            "Receiving objects: 100% (4211/4211), 14.10 MiB | 24.18 MiB/s, done.\n",
            "Resolving deltas: 100% (2337/2337), done.\n"
          ]
        }
      ]
    },
    {
      "cell_type": "code",
      "metadata": {
        "id": "vOHpc0Sfmamd",
        "colab": {
          "base_uri": "https://localhost:8080/"
        },
        "outputId": "03dc71ba-2b79-4878-cfa4-77d99ea25e2f"
      },
      "source": [
        "%cd vosk-api/python/example\n",
        "#Russian lang model\n",
        "!wget https://alphacephei.com/vosk/models/vosk-model-small-ru-0.22.zip\n",
        "!unzip vosk-model-small-ru-0.22.zip\n",
        "%mv vosk-model-small-ru-0.22 model\n",
        "!rm -rf vosk-model-small-ru-0.22.zip"
      ],
      "execution_count": null,
      "outputs": [
        {
          "output_type": "stream",
          "name": "stdout",
          "text": [
            "/content/vosk-api/python/example/vosk-api/python/example\n",
            "--2024-05-18 12:59:38--  https://alphacephei.com/vosk/models/vosk-model-small-ru-0.22.zip\n",
            "Resolving alphacephei.com (alphacephei.com)... 188.40.21.16, 2a01:4f8:13a:279f::2\n",
            "Connecting to alphacephei.com (alphacephei.com)|188.40.21.16|:443... connected.\n",
            "HTTP request sent, awaiting response... 200 OK\n",
            "Length: 46236750 (44M) [application/zip]\n",
            "Saving to: ‘vosk-model-small-ru-0.22.zip’\n",
            "\n",
            "vosk-model-small-ru 100%[===================>]  44.09M  22.2MB/s    in 2.0s    \n",
            "\n",
            "2024-05-18 12:59:41 (22.2 MB/s) - ‘vosk-model-small-ru-0.22.zip’ saved [46236750/46236750]\n",
            "\n",
            "Archive:  vosk-model-small-ru-0.22.zip\n",
            "   creating: vosk-model-small-ru-0.22/\n",
            "   creating: vosk-model-small-ru-0.22/graph/\n",
            "   creating: vosk-model-small-ru-0.22/graph/phones/\n",
            "  inflating: vosk-model-small-ru-0.22/graph/phones/word_boundary.int  \n",
            "  inflating: vosk-model-small-ru-0.22/graph/Gr.fst  \n",
            "  inflating: vosk-model-small-ru-0.22/graph/HCLr.fst  \n",
            "  inflating: vosk-model-small-ru-0.22/graph/disambig_tid.int  \n",
            "   creating: vosk-model-small-ru-0.22/am/\n",
            "  inflating: vosk-model-small-ru-0.22/am/final.mdl  \n",
            "  inflating: vosk-model-small-ru-0.22/README  \n",
            "   creating: vosk-model-small-ru-0.22/conf/\n",
            "  inflating: vosk-model-small-ru-0.22/conf/model.conf  \n",
            "  inflating: vosk-model-small-ru-0.22/conf/mfcc.conf  \n",
            "   creating: vosk-model-small-ru-0.22/ivector/\n",
            "  inflating: vosk-model-small-ru-0.22/ivector/final.dubm  \n",
            "  inflating: vosk-model-small-ru-0.22/ivector/global_cmvn.stats  \n",
            "  inflating: vosk-model-small-ru-0.22/ivector/final.ie  \n",
            "  inflating: vosk-model-small-ru-0.22/ivector/final.mat  \n",
            "  inflating: vosk-model-small-ru-0.22/ivector/splice.conf  \n",
            "  inflating: vosk-model-small-ru-0.22/ivector/online_cmvn.conf  \n"
          ]
        }
      ]
    },
    {
      "cell_type": "code",
      "metadata": {
        "id": "xsIZqyhymk0v",
        "colab": {
          "base_uri": "https://localhost:8080/"
        },
        "outputId": "9fed8a3e-5018-48b6-f528-9952293d7298"
      },
      "source": [
        "!pwd"
      ],
      "execution_count": null,
      "outputs": [
        {
          "output_type": "stream",
          "name": "stdout",
          "text": [
            "/content/vosk-api/python/example/vosk-api/python/example\n"
          ]
        }
      ]
    },
    {
      "cell_type": "code",
      "metadata": {
        "id": "0mzVbY1kmrSf"
      },
      "source": [
        "urltext ='https://www.youtube.com/watch?v=qKioph_9WNk' # Russian YouTube Clip with no captions"
      ],
      "execution_count": null,
      "outputs": []
    },
    {
      "cell_type": "code",
      "metadata": {
        "id": "imWJu55QmxQp",
        "colab": {
          "base_uri": "https://localhost:8080/",
          "height": 339
        },
        "outputId": "d02cca28-8b85-4b35-c3f9-3d7b6e60c118"
      },
      "source": [
        "from urllib.parse import urlparse, parse_qs\n",
        "\n",
        "args = [urltext]\n",
        "video_id = ''\n",
        "\n",
        "\n",
        "def extract_video_id(url):\n",
        "    query = urlparse(url)\n",
        "    if query.hostname == 'youtu.be': return query.path[1:]\n",
        "    if query.hostname in {'www.youtube.com', 'youtube.com'}:\n",
        "        if query.path == '/watch': return parse_qs(query.query)['v'][0]\n",
        "        if query.path[:7] == '/embed/': return query.path.split('/')[2]\n",
        "        if query.path[:3] == '/v/': return query.path.split('/')[2]\n",
        "    # fail?\n",
        "    return None\n",
        "\n",
        "for url in args:\n",
        "    video_id = (extract_video_id(url))\n",
        "    print('youtube video_id:',video_id)\n",
        "\n",
        "from IPython.display import YouTubeVideo\n",
        "\n",
        "YouTubeVideo(video_id)"
      ],
      "execution_count": null,
      "outputs": [
        {
          "output_type": "stream",
          "name": "stdout",
          "text": [
            "youtube video_id: qKioph_9WNk\n"
          ]
        },
        {
          "output_type": "execute_result",
          "data": {
            "text/plain": [
              "<IPython.lib.display.YouTubeVideo at 0x7b06a0a0a3b0>"
            ],
            "text/html": [
              "\n",
              "        <iframe\n",
              "            width=\"400\"\n",
              "            height=\"300\"\n",
              "            src=\"https://www.youtube.com/embed/qKioph_9WNk\"\n",
              "            frameborder=\"0\"\n",
              "            allowfullscreen\n",
              "            \n",
              "        ></iframe>\n",
              "        "
            ],
            "image/jpeg": "[encoded data removed]"
          },
          "metadata": {},
          "execution_count": 16
        }
      ]
    },
    {
      "cell_type": "code",
      "source": [
        "video_id"
      ],
      "metadata": {
        "colab": {
          "base_uri": "https://localhost:8080/",
          "height": 35
        },
        "id": "GXh9LA4RNFuk",
        "outputId": "f55d9e13-e1ae-46aa-a12d-2733313c6ebe"
      },
      "execution_count": null,
      "outputs": [
        {
          "output_type": "execute_result",
          "data": {
            "text/plain": [
              "'qKioph_9WNk'"
            ],
            "application/vnd.google.colaboratory.intrinsic+json": {
              "type": "string"
            }
          },
          "metadata": {},
          "execution_count": 17
        }
      ]
    },
    {
      "cell_type": "code",
      "metadata": {
        "id": "VJPBEhr9nOE2",
        "colab": {
          "base_uri": "https://localhost:8080/"
        },
        "outputId": "e9271942-750a-4b64-ddd5-6bac71aca5f3"
      },
      "source": [
        "!rm -rf e*.wav\n",
        "!pip install -q yt-dlp\n",
        "!yt-dlp --extract-audio --verbose --audio-format wav --output \"extract.%(ext)s\" {urltext}\n"
      ],
      "execution_count": null,
      "outputs": [
        {
          "output_type": "stream",
          "name": "stdout",
          "text": [
            "[debug] Command-line config: ['--extract-audio', '--verbose', '--audio-format', 'wav', '--output', 'extract.%(ext)s', 'https://www.youtube.com/watch?v=qKioph_9WNk']\n",
            "[debug] Encodings: locale UTF-8, fs utf-8, pref UTF-8, out utf-8, error utf-8, screen utf-8\n",
            "[debug] yt-dlp version stable@2024.04.09 from yt-dlp/yt-dlp [ff0779267] (pip)\n",
            "[debug] Python 3.10.12 (CPython x86_64 64bit) - Linux-6.1.85+-x86_64-with-glibc2.35 (OpenSSL 3.0.2 15 Mar 2022, glibc 2.35)\n",
            "[debug] exe versions: ffmpeg 4.4.2 (setts), ffprobe 4.4.2\n",
            "[debug] Optional libraries: Cryptodome-3.20.0, brotli-1.1.0, certifi-2024.02.02, mutagen-1.47.0, requests-2.31.0, secretstorage-3.3.1, sqlite3-3.37.2, urllib3-2.0.7, websockets-12.0\n",
            "[debug] Proxy map: {'colab_language_server': '/usr/colab/bin/language_service'}\n",
            "[debug] Request Handlers: urllib, requests, websockets\n",
            "[debug] Loaded 1810 extractors\n",
            "[youtube] Extracting URL: https://www.youtube.com/watch?v=qKioph_9WNk\n",
            "[youtube] qKioph_9WNk: Downloading webpage\n",
            "[youtube] qKioph_9WNk: Downloading ios player API JSON\n",
            "[youtube] qKioph_9WNk: Downloading android player API JSON\n",
            "\u001b[0;33mWARNING:\u001b[0m [youtube] Skipping player responses from android clients (got player responses for video \"aQvGIIdgFDM\" instead of \"qKioph_9WNk\")\n",
            "[debug] Loading youtube-nsig.b05eda73 from cache\n",
            "[debug] [youtube] Decrypted nsig Ibl0gDl_fnz7AQWfPIm9 => QPxSUMA2hHHmRA\n",
            "[debug] Loading youtube-nsig.b05eda73 from cache\n",
            "[debug] [youtube] Decrypted nsig DgtkBwzV0dKF6LfktWAT => xEqo6BBkhsMfaA\n",
            "[youtube] qKioph_9WNk: Downloading m3u8 information\n",
            "[debug] Sort order given by extractor: quality, res, fps, hdr:12, source, vcodec:vp9.2, channels, acodec, lang, proto\n",
            "[debug] Formats sorted by: hasvid, ie_pref, quality, res, fps, hdr:12(7), source, vcodec:vp9.2(10), channels, acodec, lang, proto, size, br, asr, vext, aext, hasaud, id\n",
            "[info] qKioph_9WNk: Downloading 1 format(s): 251\n",
            "[debug] Invoking http downloader on \"https://rr5---sn-p5qlsndk.googlevideo.com/videoplayback?expire=1716058790&ei=RqZIZvX3Lvr7zLUP97uRwAk&ip=34.150.202.75&id=o-ADA12IUnL9thMWaXUGO0N0rej8r0BtocQEp4tK5LwYBD&itag=251&source=youtube&requiressl=yes&xpc=EgVo2aDSNQ%3D%3D&mh=fa&mm=31%2C26&mn=sn-p5qlsndk%2Csn-ab5l6nk6&ms=au%2Conr&mv=m&mvi=5&pl=20&bui=AWRWj2SOV-c3agXgYYC59SfaeyxyBwLnAawDJjDMbG1NUXbkPteITSYpY7UiBsPit23-56fe8alNxJer&spc=UWF9f28qQFB-zjyiRunm7CQ63IN8FTEmwIBKrv--obd05o3VCqSw63I&vprv=1&svpuc=1&mime=audio%2Fwebm&ns=cuGGQG9XIR5-BarXYCpArjEQ&rqh=1&gir=yes&clen=14550186&dur=1121.621&lmt=1668265359469567&mt=1716036790&fvip=3&keepalive=yes&c=WEB&sefc=1&txp=6318224&n=xEqo6BBkhsMfaA&sparams=expire%2Cei%2Cip%2Cid%2Citag%2Csource%2Crequiressl%2Cxpc%2Cbui%2Cspc%2Cvprv%2Csvpuc%2Cmime%2Cns%2Crqh%2Cgir%2Cclen%2Cdur%2Clmt&sig=AJfQdSswRQIgb0tm3Qc7ofFPnBaPLngMI1WfQfQ9akbumAe6_3EvmIkCIQCUO_aM35X4RNLNSdAdYHdCLJ9B7rcBUvFZlK9CGjewxA%3D%3D&lsparams=mh%2Cmm%2Cmn%2Cms%2Cmv%2Cmvi%2Cpl&lsig=AHWaYeowRQIgLVye4WyOgb2WPH-c-aNpyohE43XJAxzAls9H9Fhxhi4CIQCayVMJUJvkZddchnCRYZj6jlHlN_7hQ9efPIE4bxwxBQ%3D%3D\"\n",
            "[download] Destination: extract.webm\n",
            "\u001b[K[download] 100% of   13.88MiB in \u001b[1;37m00:00:00\u001b[0m at \u001b[0;32m34.06MiB/s\u001b[0m\n",
            "[debug] ffmpeg command line: ffprobe -show_streams file:extract.webm\n",
            "[ExtractAudio] Destination: extract.wav\n",
            "[debug] ffmpeg command line: ffmpeg -y -loglevel repeat+info -i file:extract.webm -vn -movflags +faststart file:extract.wav\n",
            "Deleting original file extract.webm (pass -k to keep)\n"
          ]
        }
      ]
    },
    {
      "cell_type": "code",
      "metadata": {
        "id": "4MgcgoSGnco9",
        "colab": {
          "base_uri": "https://localhost:8080/"
        },
        "outputId": "3f467a78-216b-4c1f-8434-e4969d481f83"
      },
      "source": [
        "!apt install ffmpeg\n",
        "\n",
        "!ffmpeg -i extract.wav -vn -acodec pcm_s16le -ac 1 -ar 16000 -f wav test1.wav"
      ],
      "execution_count": null,
      "outputs": [
        {
          "output_type": "stream",
          "name": "stdout",
          "text": [
            "Reading package lists... Done\n",
            "Building dependency tree... Done\n",
            "Reading state information... Done\n",
            "ffmpeg is already the newest version (7:4.4.2-0ubuntu0.22.04.1).\n",
            "0 upgraded, 0 newly installed, 0 to remove and 45 not upgraded.\n",
            "ffmpeg version 4.4.2-0ubuntu0.22.04.1 Copyright (c) 2000-2021 the FFmpeg developers\n",
            "  built with gcc 11 (Ubuntu 11.2.0-19ubuntu1)\n",
            "  configuration: --prefix=/usr --extra-version=0ubuntu0.22.04.1 --toolchain=hardened --libdir=/usr/lib/x86_64-linux-gnu --incdir=/usr/include/x86_64-linux-gnu --arch=amd64 --enable-gpl --disable-stripping --enable-gnutls --enable-ladspa --enable-libaom --enable-libass --enable-libbluray --enable-libbs2b --enable-libcaca --enable-libcdio --enable-libcodec2 --enable-libdav1d --enable-libflite --enable-libfontconfig --enable-libfreetype --enable-libfribidi --enable-libgme --enable-libgsm --enable-libjack --enable-libmp3lame --enable-libmysofa --enable-libopenjpeg --enable-libopenmpt --enable-libopus --enable-libpulse --enable-librabbitmq --enable-librubberband --enable-libshine --enable-libsnappy --enable-libsoxr --enable-libspeex --enable-libsrt --enable-libssh --enable-libtheora --enable-libtwolame --enable-libvidstab --enable-libvorbis --enable-libvpx --enable-libwebp --enable-libx265 --enable-libxml2 --enable-libxvid --enable-libzimg --enable-libzmq --enable-libzvbi --enable-lv2 --enable-omx --enable-openal --enable-opencl --enable-opengl --enable-sdl2 --enable-pocketsphinx --enable-librsvg --enable-libmfx --enable-libdc1394 --enable-libdrm --enable-libiec61883 --enable-chromaprint --enable-frei0r --enable-libx264 --enable-shared\n",
            "  libavutil      56. 70.100 / 56. 70.100\n",
            "  libavcodec     58.134.100 / 58.134.100\n",
            "  libavformat    58. 76.100 / 58. 76.100\n",
            "  libavdevice    58. 13.100 / 58. 13.100\n",
            "  libavfilter     7.110.100 /  7.110.100\n",
            "  libswscale      5.  9.100 /  5.  9.100\n",
            "  libswresample   3.  9.100 /  3.  9.100\n",
            "  libpostproc    55.  9.100 / 55.  9.100\n",
            "\u001b[0;33mGuessed Channel Layout for Input Stream #0.0 : stereo\n",
            "\u001b[0mInput #0, wav, from 'extract.wav':\n",
            "  Metadata:\n",
            "    encoder         : Lavf58.76.100\n",
            "  Duration: 00:18:41.60, bitrate: 1536 kb/s\n",
            "  Stream #0:0: Audio: pcm_s16le ([1][0][0][0] / 0x0001), 48000 Hz, stereo, s16, 1536 kb/s\n",
            "Stream mapping:\n",
            "  Stream #0:0 -> #0:0 (pcm_s16le (native) -> pcm_s16le (native))\n",
            "Press [q] to stop, [?] for help\n",
            "Output #0, wav, to 'test1.wav':\n",
            "  Metadata:\n",
            "    ISFT            : Lavf58.76.100\n",
            "  Stream #0:0: Audio: pcm_s16le ([1][0][0][0] / 0x0001), 16000 Hz, mono, s16, 256 kb/s\n",
            "    Metadata:\n",
            "      encoder         : Lavc58.134.100 pcm_s16le\n",
            "size=   35050kB time=00:18:41.59 bitrate= 256.0kbits/s speed= 542x    \n",
            "video:0kB audio:35050kB subtitle:0kB other streams:0kB global headers:0kB muxing overhead: 0.000217%\n"
          ]
        }
      ]
    },
    {
      "cell_type": "code",
      "metadata": {
        "id": "wii75gb2nirr"
      },
      "source": [
        "from vosk import Model, KaldiRecognizer, SetLogLevel\n",
        "import sys\n",
        "import os\n",
        "import wave\n",
        "import json\n",
        "\n",
        "path = '/content/vosk-api/python/example/'\n",
        "\n",
        "SetLogLevel(0)\n",
        "\n",
        "if not os.path.exists(\"model\"):\n",
        "    print (\"Please download the model from https://alphacephei.com/vosk/models and unpack as 'model' in the current folder.\")\n",
        "    exit (1)\n",
        "\n",
        "#wf = wave.open(path+'/test.wav',\"rb\")#English test sample\n",
        "wf = wave.open(path+'/test1.wav',\"rb\")#Chinese lang test sample\n",
        "sound = path+'/test1.wav'\n",
        "if wf.getnchannels() != 1 or wf.getsampwidth() != 2 or wf.getcomptype() != \"NONE\":\n",
        "    print (\"Audio file must be WAV format mono PCM.\")\n",
        "    exit (1)\n",
        "\n",
        "model = Model(\"model\")\n",
        "rec = KaldiRecognizer(model, wf.getframerate())\n",
        "\n",
        "while True:\n",
        "    data = wf.readframes(4000)\n",
        "    if len(data) == 0:\n",
        "        break\n",
        "    if rec.AcceptWaveform(data):\n",
        "        continue\n",
        "        #print(rec.Result())\n",
        "       ## res = json.loads(rec.Result())\n",
        "        #print(res['text'])\n",
        "    #else:\n",
        "        #print(rec.PartialResult())\n",
        "\n",
        "original_stdout = sys.stdout\n",
        "with open('vosk.json','w') as f:\n",
        "    sys.stdout = f\n",
        "    print(rec.FinalResult())\n",
        "    f.close()\n",
        "    sys.stdout = original_stdout\n",
        "##res = json.loads(rec.FinalResult())\n",
        "##print(res['text'])"
      ],
      "execution_count": null,
      "outputs": []
    },
    {
      "cell_type": "code",
      "metadata": {
        "id": "xNNdQKf4oU2Q",
        "colab": {
          "base_uri": "https://localhost:8080/"
        },
        "outputId": "01c020e2-e115-4395-dd1f-733b039a5ddd"
      },
      "source": [
        "import json\n",
        "import pandas as pd\n",
        "import datetime\n",
        "import copy\n",
        "\n",
        "def fmttime(sec):\n",
        "    secs = sec #millisecs / 1000.0\n",
        "    d = datetime.timedelta(seconds=secs)\n",
        "    t = (datetime.datetime.min + d).time()\n",
        "    milli = t.strftime('%f')[:3]\n",
        "    value = t.strftime('%H:%M:%S,') + milli\n",
        "    return value\n",
        "\n",
        "\n",
        "# Load JSON data\n",
        "with open('vosk.json', 'r') as f:\n",
        "    data = json.load(f)\n",
        "\n",
        "# Retrieve the text\n",
        "text = data['text']\n",
        "\n",
        "# Split the text into lines of 100 characters\n",
        "lines = [text[i:i+100] for i in range(0, len(text), 100)]\n",
        "\n",
        "# Print each line\n",
        "for line in lines:\n",
        "    print(line)"
      ],
      "execution_count": null,
      "outputs": [
        {
          "output_type": "stream",
          "name": "stdout",
          "text": [
            "нерюнгри индустриальной первенец байкал амурской магистрали трамплин к освоению природных кладовых ю\n",
            "жной якутии так говорят учёные экономисты хозяйстве это город куда контейнеров с домашними вещами пр\n",
            "ебывает сегодня в шесть раз больше чем отправляется отсюда утверждают статистики у него сто тысяч ли\n",
            "ц и каждый пятый житель родился уже здесь хотя нерюнгри по возрасту сам ещё подросток трудно предста\n",
            "вить что тех первых встретили тишина да безлюдные сопки был среди них и кузбасский горняк валентин к\n",
            "арлович вин шум я проехался зарезать это да нет шесть поработать для так как из кого-то кто соответс\n",
            "твовали жили палатки двадцати местные палатках ли печки очень тепло было в палатки было тепло на ули\n",
            "цы большие сейчас джерико доску речки курильщики всегда холодея мы жили дружно из кузбасса приехал и\n",
            " строитель юрий константинович долгушин человек смелых неординарных решений он возглавил управления \n",
            "номер тринадцать комбината якутск угле строй не повезло по приезду меня назначили начальником строит\n",
            "ельство канализационного коллектора был такой коллектор который идёт адвокат обогатить фабрики дон р\n",
            "еки ландграф это за серебряным бором длина его семнадцать километров и что самое интересное для меня\n",
            " очень хозяйка первый раз вы уже на север звезда носить нужно было сдавать вот этот канализационные \n",
            "коллекторы длиной повторяя семнадцать километров владеть самодеятельной в условиях вечной мерзлоты в\n",
            " южной якутии носить при морозе на улицы пятьдесят пятьдесят шесть градусов и поразила сама но самое\n",
            " не одержимость что ли вы готовы планы что оставалось буквально три месяца до пуска причём коллектор\n",
            " был жизненно необходим уже только вновь развивающимся города потому что много было зависело от вода\n",
            " этого коллега разносить пуск домов и промышленных предприятий и они сдали этот коллектор сдали как \n",
            "говорит долгушин всем чертям назло иначе нельзя было приступить к монтажу первого от крупно панельно\n",
            "го дома а с него и начала свою биографию молодая бригада о государственной премии ссср анатолий петр\n",
            "ович платонова поставили день открытия олимпиады восемьдесят москве это девятнадцатого июля дом а ту\n",
            "т трудно так как клуб все микро экспериментальная дом многие не верили что мы сделаем до такой корот\n",
            "кий срок до нового года сдадим работали вашим так сказать на слове всей семьи с человек которого был\n",
            "о бригады и последний ширину но уложили в двенадцать часов ночи утром приехала комиссия не верили чт\n",
            "о дом будет готов утром приехали тридцать первого декабря в дом был под крышей все сделаю полностью \n",
            "на сто тысяч квадратных метров жилья вырастает каждый год самый молодой город якутии возводятся он и\n",
            "з конструкций местного завода главные новосёл и горняки разрез нерюнгри его проектные производительн\n",
            "ость тринадцать миллионов тонн топлива в год солидно да немного найдётся в стране подобных мы и при \n",
            "такой добычи богатство южной якутского бассейна хватит надолго ведь его прогнозные запасы огромные с\n",
            "выше сорока миллиардов тонн для производства таких масштабов понадобилось не только новая технология\n",
            " но и супер мощные техника что восьмидесяти тонны и самосвалы двадцати к и экскаваторы одним из них \n",
            "мастерски управляет наш знакомый валентин карлович венцу день конечно остался в памяти о то было два\n",
            "дцать шестого февраля двадцать пятый съест я волновался больше всего за то что эскалатора когда приг\n",
            "нали вразрез с монтировали полностью работы пробовали было пробовали и самый большой волнение было в\n",
            " том чтобы значит экскаваторы отказал потому что первое куш чтобы все значит прошла без отказов так \n",
            "как народу собралось очередного вот это моя волнения был я как-то не пережила на что не получит году\n",
            " было очень сколько народу бы на ленту краснодаре зале не счесть сколько ковшей поднял с тех пор вал\n",
            "ентин карлович венцу и другие асы не рентгеновского разреза эшелон за эшелоном отправляется знаменит\n",
            "ый как суйся уголь якутии металлургом стороны а тот первый ковш памяти он не только валентину карло \n",
            "ничего но и венцу младшему юра вырос и получил рабочий профессию здесь нерюнгри приехал он якутия вм\n",
            "есте с родителями таким как эти юные и хоккеисты участники всесоюзных соревнованиях риск золотая шай\n",
            "ба вовсе не случайно северный город избран местом проведения такого представительного турнира спорт \n",
            "любят нерюнгри он закаляет ребят завтрашнюю рабочую смену победа она приходит к упорным и дружным та\n",
            "ков от мала до велика характер северянина люди действительно здесь как вы сказали одержимая или я ск\n",
            "азал одержимы вносить люди просто здесь северном как трансформирует характер и проверяет просто люде\n",
            "й и сюда естественно приезжает очень многое случайных людей узнать кто за туманом кто за деньгами но\n",
            " сети и то и другое вот на мой взгляд носить не приживается в конечном итоге я например могу много п\n",
            "ривести таких людей которые уже называется без камни западают которых нет какие-то там меркантильных\n",
            " интересов для которое мы действительно работа заключает в себе значит весь свой жизненный смысла вс\n",
            "е быть и практически здесь из непосредственных организаторов производства мне бы хотелось конечно пр\n",
            "ежде всего отметить курникова василия ивановича маленький такой и общем маленький энергичный всегда \n",
            "чем ты занят если зачем-то обеспокоены человек как сгусток энергии эти он тоже приехал такое к это в\n",
            " общем-то растеряны не знал найдёт себе здесь или нет здесь как раз под вернулись мы ему найти со св\n",
            "оим делом как я много раз говорил дело но на самом деле очень интересно работа я скажу уникальная на\n",
            "шла отражение а на выставке достижений народного хозяйства вы получили летали и золотые и серебряные\n",
            " грозы ли это дело уникальные башня углей накопителей семь вашим каждые сорок два метра высотой и бе\n",
            "з малого стол обхвате таких никто до его не строя да и подобных от расчётных бригад где едином наряд\n",
            "ом связаны с сто восемьдесят человек прежде не существовало и чтобы справиться с этой новизной и в т\n",
            "ехнологии строительства и в организации труда нужен был способны бригадир таким и оказался василий к\n",
            "ончиков и так коллектив интересно посмотреть на него не со стороны а изнутри глазами рабочим как нап\n",
            "ример понимает это слово извини его и николай кулька в чук кстати спортсмен и активные организатор с\n",
            "портом бригаде если взять одного человека он может где-то в честности вот как там лыжники он хотел н\n",
            "а каком-то очерки вот расслабиться в позволю себе слабенько ло когда командой выступает с значит он \n",
            "знает что его ждёт ребята а до и что свету то есть коллектив и вот это ответственность перед коллект\n",
            "ивов не даёт ему возможность одета расслабиться на каком-то участки но если перевести на бригадный о\n",
            "тношении если допустим работаем мы от честности я на в этаже работал сам и вот мы работал в так как \n",
            "называется точки зрения если я один что-то что-то делаю не то ваш обязательно помогает той силе кото\n",
            "рая задаёт один человек подчиняется все остальные как-то достоинства и получается что не всем коллек\n",
            "тивом решает одну общую задачи то есть вот этот до коллективизма в коллективе взять спорте в работе \n",
            "он всегда придаёт какие-то дополнительные силы для того чтобы выполнишь какие-то объем работы какие-\n",
            "то тысяча девятьсот восьмидесятого года мы начали работать у крупу укреплёнными бригадами значит пер\n",
            "вое бригада это было бригада котиковой купоны бригада у нас семидесяти до ста восьмидесяти до двухсо\n",
            "т человек одним из них был коллектив о бригады алексеевиче михеева этих мне бы хотелось буквально дв\n",
            "а слова сказать о как возникла бригадир относительно его качеству просто так случилось что мы жили в\n",
            "месте четыре года почти из носить он решил надо мной носителей практически по нему можно было сверят\n",
            "ь часы что он каждый день в половине шестого независимо от день воскресный праздничные даже все равн\n",
            "о уходил на работу начинал попотеть значит я уже знаю я поднялся пошёл на работу путём человек готов\n",
            "ы отличает какая-то неутомимая энергия что даже в фанатичной этого тогда труде по настолько мне каже\n",
            "тся человек не может жить без работы причём везде задающий генератор буквально всех мероприятий особ\n",
            "енно производственного характера является действительно сам он был три ордена ленина звезду героя тр\n",
            "уда вот эти годы октябрьской революции медали за труб сейчас бригады кур чикаго и михеева перешли на\n",
            " новую стройке они возводит крупные ремонтно механический завод казалось бы ста восьмидесяти тоном б\n",
            "ела в отведи к убогом уральском мощный импортной техники износу нет ну вы круглосуточная работа в ка\n",
            "рьерах лютые морозы делают своё дело вовремя подлечить могучие машины дать им второе дыхание и позво\n",
            "лит ремонтный завод среди дома строителей не первый всегда называют бригаду платонов есть за что мен\n",
            "ьше трёх месяцев требуется этому коллективу чтобы передать городу двухсот квартирный дом город молод\n",
            "ой не блага устроился но этого года через три четыре это будет один из самых образцового городов и я\n",
            "кутии восточной сибири не только да мама что мы стараемся сохранить зелёную зону кустарники и деревь\n",
            "я очень болезненно так перенос что-то именно россию это рядом но естественно была чистой тайга сейча\n",
            "с здесь совершенно другие условия стали кроме этого мы около бытовки рядом узнаете меня сохранили зе\n",
            "лёный массив так где будущем будет пионерский парка сохранить тайгу значит сохранить чистоту воздуха\n",
            " сберечь здоровье и взрослых и детей а их ребятишек в нерюнгри с каждым годом все больше сколько бы \n",
            "ни старались строители поспеть за рождаемостью детских садов и яслей все равно не хватает но в тех ч\n",
            "то есть сделано все чтобы маленькие северяне росли крепкими и здоровыми мы знаем что сейчас современ\n",
            "ная жилье которое строй в этом жилье будет жить люди будущего века а у них требования будут повышенн\n",
            "ой и надо сейчас именно учитывать это современная живёт так чтобы будущие поколения но жила и вспоми\n",
            "нала нам добрым словом как быстро летит время вчерашних первопроходцев называют ветеранами чем же вс\n",
            "е-таки привлёк удержал нерюнгри что здесь на дальнем востоке построена самая крупная но не только на\n",
            " дальнем востоке я пожалуй в союзе самая крупная обогатить иная фабрики здесь уникальное оборудовани\n",
            "е поэтому по обогащения вообще строить мы устроили главный корпус было очень интересно вот такие бы \n",
            "интересно строй побольше конечно и опыт приобретал чтобы и коллективы крепкие были было нас трудовые\n",
            " видимо судьба я в якутии от на вилюйск сработал сюда приехал снова потянуло именно в якутии по его \n",
            "судьба что здесь она на нашёлся и своё место в жизни счастью все я считаю что у нерюнгри очень больш\n",
            "ое серьёзное хорошая и красивая будущее что мой вклад строительство города нерюнгри тоже есть поэтом\n",
            "у он не обязательно должен нравится но и знаю каким он будет мне хочется верить в будущее города как\n",
            " сказку и поэтому а всегда седанов боец это их город он стал для них родным несмотря на суровый нрав\n",
            " поэтому этот народный праздник особенно по душе северянам долгое стадионы зима уступает наконец в с\n",
            "воё царство летом\n"
          ]
        }
      ]
    }
  ]
}